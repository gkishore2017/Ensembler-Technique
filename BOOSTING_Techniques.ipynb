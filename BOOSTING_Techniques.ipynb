{
 "cells": [
  {
   "cell_type": "code",
   "execution_count": 1,
   "id": "b135f9c2",
   "metadata": {},
   "outputs": [],
   "source": [
    "#Imprting neccesary libraries\n",
    "#data handling libraries\n",
    "\n",
    "import pandas as pd\n",
    "import numpy as np\n",
    "\n",
    "#Data Train_test fit Library\n",
    "from sklearn.model_selection import train_test_split\n",
    "\n",
    "#Random forest classifer\n",
    "from sklearn.ensemble import RandomForestClassifier\n",
    "\n",
    "#Model Evaluation Library\n",
    "from sklearn.metrics import accuracy_score\n",
    "\n",
    "#Data pre-processing Libraries\n",
    "from sklearn.preprocessing import LabelEncoder\n",
    "\n",
    "#Importing LogisticRegression\n",
    "from sklearn.linear_model import LogisticRegression\n",
    "\n",
    "#svm model \n",
    "from sklearn.svm import SVC\n",
    "\n",
    "#Machine learning Algorithm\n",
    "from sklearn.tree import DecisionTreeClassifier\n",
    "\n",
    "from sklearn.ensemble import AdaBoostClassifier as ABC, GradientBoostingClassifier as GBC\n",
    "\n"
   ]
  },
  {
   "cell_type": "code",
   "execution_count": 2,
   "id": "44008603",
   "metadata": {},
   "outputs": [],
   "source": [
    "#User-Defined Function \n",
    "\n",
    "def my_ET(x, y, model):\n",
    "    xtrain, xtest, ytrain, ytest = train_test_split(x, y, test_size=0.3)\n",
    "    model = model()\n",
    "    model.fit(xtrain, ytrain)\n",
    "    pred = model.predict(xtest)\n",
    "    accuracy_test = accuracy_score(pred, ytest)\n",
    "    pred1 = model.predict(xtrain)\n",
    "    accuracy_train = accuracy_score(pred1, ytrain)\n",
    "    print(f\"Test Accuracy : {accuracy_test}\") \n",
    "    print(f\"Train Accuracy: {accuracy_train}\")"
   ]
  },
  {
   "cell_type": "code",
   "execution_count": 3,
   "id": "6ab04c85",
   "metadata": {},
   "outputs": [],
   "source": [
    "df = pd.read_excel('ktm.xlsx')\n"
   ]
  },
  {
   "cell_type": "code",
   "execution_count": 4,
   "id": "726943a3",
   "metadata": {},
   "outputs": [],
   "source": [
    "le = LabelEncoder()"
   ]
  },
  {
   "cell_type": "code",
   "execution_count": 5,
   "id": "96c792f2",
   "metadata": {},
   "outputs": [],
   "source": [
    "df['Gender'] = le.fit_transform(df['Gender'])\n",
    "df['Occupation'] = le.fit_transform(df['Occupation'])\n",
    "df['Phone Type'] = le.fit_transform(df['Phone Type'])\n",
    "df['Current Bike'] = le.fit_transform(df['Current Bike'])\n",
    "df['Relationship'] = le.fit_transform(df['Relationship'])\n",
    "df['Response'] = le.fit_transform(df['Response'])"
   ]
  },
  {
   "cell_type": "code",
   "execution_count": 6,
   "id": "e9e20fbf",
   "metadata": {},
   "outputs": [],
   "source": [
    "#Dependent Variable\n",
    "y = df[['Response']]  \n",
    "\n",
    "#for Independednt Variable\n",
    "x = df.drop(columns=['ID', 'Response'], axis=1)"
   ]
  },
  {
   "cell_type": "code",
   "execution_count": 7,
   "id": "873a552b",
   "metadata": {},
   "outputs": [
    {
     "name": "stdout",
     "output_type": "stream",
     "text": [
      "Test Accuracy : 0.7587719298245614\n",
      "Train Accuracy: 0.8700564971751412\n"
     ]
    },
    {
     "name": "stderr",
     "output_type": "stream",
     "text": [
      "C:\\Users\\GOD\\anaconda3\\lib\\site-packages\\sklearn\\utils\\validation.py:63: DataConversionWarning: A column-vector y was passed when a 1d array was expected. Please change the shape of y to (n_samples, ), for example using ravel().\n",
      "  return f(*args, **kwargs)\n"
     ]
    }
   ],
   "source": [
    "#Gradient Boosting Classifier\n",
    "my_ET(x,y, GBC)"
   ]
  },
  {
   "cell_type": "code",
   "execution_count": 8,
   "id": "e2ce6dab",
   "metadata": {},
   "outputs": [
    {
     "name": "stderr",
     "output_type": "stream",
     "text": [
      "C:\\Users\\GOD\\anaconda3\\lib\\site-packages\\sklearn\\utils\\validation.py:63: DataConversionWarning: A column-vector y was passed when a 1d array was expected. Please change the shape of y to (n_samples, ), for example using ravel().\n",
      "  return f(*args, **kwargs)\n"
     ]
    },
    {
     "name": "stdout",
     "output_type": "stream",
     "text": [
      "Test Accuracy : 0.7872807017543859\n",
      "Train Accuracy: 0.7815442561205274\n"
     ]
    }
   ],
   "source": [
    "# AdaBoostClassifier \n",
    "my_ET(x,y, ABC)"
   ]
  },
  {
   "cell_type": "code",
   "execution_count": null,
   "id": "4702185f",
   "metadata": {},
   "outputs": [],
   "source": []
  }
 ],
 "metadata": {
  "kernelspec": {
   "display_name": "Python 3",
   "language": "python",
   "name": "python3"
  },
  "language_info": {
   "codemirror_mode": {
    "name": "ipython",
    "version": 3
   },
   "file_extension": ".py",
   "mimetype": "text/x-python",
   "name": "python",
   "nbconvert_exporter": "python",
   "pygments_lexer": "ipython3",
   "version": "3.8.8"
  }
 },
 "nbformat": 4,
 "nbformat_minor": 5
}
